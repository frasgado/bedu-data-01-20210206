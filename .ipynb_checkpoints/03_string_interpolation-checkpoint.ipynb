{
 "cells": [
  {
   "cell_type": "markdown",
   "id": "golden-tumor",
   "metadata": {},
   "source": [
    "## Exercise in Python using Jupyter Notebook\n",
    "### Translating 03_string_interpolation.py to 03_string_interpolation.ipynb\n",
    "#### By Fabiola Rasgado\n",
    "07 - February - 2021\n",
    "\n",
    "```\n",
    "Sample code of how the string interpolation works in Python\n",
    "```"
   ]
  },
  {
   "cell_type": "code",
   "execution_count": 20,
   "id": "stylish-blade",
   "metadata": {},
   "outputs": [
    {
     "name": "stdout",
     "output_type": "stream",
     "text": [
      "1 - FabiolaRasgado\n",
      "2 - Fabiola Rasgado\n",
      "3 - Fabiola Rasgado\n",
      "4 - Fabiola Rasgado\n",
      "5 - Fabiola Rasgado\n"
     ]
    }
   ],
   "source": [
    "name = 'Fabiola'\n",
    "last_name = 'Rasgado'\n",
    "\n",
    "print('1 - ', end='')\n",
    "print(name + last_name)\n",
    "\n",
    "print('2 - ', end='')\n",
    "print(name + ' ' + last_name)\n",
    "\n",
    "# f-strings\n",
    "print('3 - ', end='')\n",
    "full_name = f'{name} {last_name}'\n",
    "print(full_name)\n",
    "\n",
    "# String formatting\n",
    "print('4 - ', end='')\n",
    "full_name_formating = '{} {}'.format(name, last_name)\n",
    "print(full_name_formating)\n",
    "\n",
    "# String formatting \n",
    "print('5 - ', end='')\n",
    "full_name_formating = '{n} {l}'.format(n=name, l=last_name)\n",
    "print(full_name_formating)"
   ]
  }
 ],
 "metadata": {
  "kernelspec": {
   "display_name": "Python 3",
   "language": "python",
   "name": "python3"
  },
  "language_info": {
   "codemirror_mode": {
    "name": "ipython",
    "version": 3
   },
   "file_extension": ".py",
   "mimetype": "text/x-python",
   "name": "python",
   "nbconvert_exporter": "python",
   "pygments_lexer": "ipython3",
   "version": "3.8.7"
  }
 },
 "nbformat": 4,
 "nbformat_minor": 5
}
