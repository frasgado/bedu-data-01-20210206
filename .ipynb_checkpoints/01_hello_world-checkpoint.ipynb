{
 "cells": [
  {
   "cell_type": "markdown",
   "id": "compound-lyric",
   "metadata": {},
   "source": [
    "## Exercise in Python using Jupyter Notebook\n",
    "### Translating 01_hellow_world.py to 01_hellow_world.ipynb\n",
    "#### By Fabiola Rasgado\n",
    "07 - February - 2021\n",
    "\n",
    "```\n",
    "This is a multiline comment\n",
    "I am the second line\n",
    "...\n",
    "...\n",
    "I am another line\n",
    "```"
   ]
  },
  {
   "cell_type": "code",
   "execution_count": 2,
   "id": "aggressive-classification",
   "metadata": {},
   "outputs": [
    {
     "name": "stdout",
     "output_type": "stream",
     "text": [
      "hello world!\n",
      ":D\n"
     ]
    }
   ],
   "source": [
    "# Importing the time module from python standard library\n",
    "import time\n",
    "\n",
    "# First print statement\n",
    "print('hello world!')\n",
    "\n",
    "# Sleep the execution for three seconds\n",
    "time.sleep(3.0)\n",
    "\n",
    "# Print after the sleep function\n",
    "print(':D')"
   ]
  }
 ],
 "metadata": {
  "kernelspec": {
   "display_name": "Python 3",
   "language": "python",
   "name": "python3"
  },
  "language_info": {
   "codemirror_mode": {
    "name": "ipython",
    "version": 3
   },
   "file_extension": ".py",
   "mimetype": "text/x-python",
   "name": "python",
   "nbconvert_exporter": "python",
   "pygments_lexer": "ipython3",
   "version": "3.8.7"
  }
 },
 "nbformat": 4,
 "nbformat_minor": 5
}
