{
 "cells": [
  {
   "cell_type": "markdown",
   "id": "painful-pressing",
   "metadata": {},
   "source": [
    "## Exercise in Python using Jupyter Notebook\n",
    "### Translating 04_if_condition.py to 04_if_condition.ipynb\n",
    "#### By Fabiola Rasgado\n",
    "07 - February - 2021\n",
    "\n",
    "```\n",
    "IF condition\n",
    "```"
   ]
  },
  {
   "cell_type": "code",
   "execution_count": 3,
   "id": "enhanced-money",
   "metadata": {},
   "outputs": [
    {
     "name": "stdout",
     "output_type": "stream",
     "text": [
      "What is your name? Fabiol\n",
      "Hello Fabiol\n",
      "Congrats, you got a special prize.\n",
      "Good bye!!! :D\n"
     ]
    }
   ],
   "source": [
    "import time\n",
    "\n",
    "name = input('What is your name? ')\n",
    "\n",
    "print(f'Hello {name}')\n",
    "\n",
    "magic_number = 6\n",
    "\n",
    "time.sleep(2.0)\n",
    "if len(name) > magic_number:\n",
    "    print('Sorry, but you lost.')\n",
    "elif len(name) == magic_number:\n",
    "    print('Congrats, you got a special prize.')\n",
    "else:\n",
    "    print('You won!!! :D')\n",
    "\n",
    "time.sleep(2.0)\n",
    "print('Good bye!!! :D')"
   ]
  }
 ],
 "metadata": {
  "kernelspec": {
   "display_name": "Python 3",
   "language": "python",
   "name": "python3"
  },
  "language_info": {
   "codemirror_mode": {
    "name": "ipython",
    "version": 3
   },
   "file_extension": ".py",
   "mimetype": "text/x-python",
   "name": "python",
   "nbconvert_exporter": "python",
   "pygments_lexer": "ipython3",
   "version": "3.8.7"
  }
 },
 "nbformat": 4,
 "nbformat_minor": 5
}
