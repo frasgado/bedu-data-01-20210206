{
 "cells": [
  {
   "cell_type": "markdown",
   "id": "prostate-arkansas",
   "metadata": {},
   "source": [
    "# First Jupyter notebook\n",
    "### Dependencies\n",
    "\n",
    "This need to have jupyter installed in your virtual environment.\n",
    "\n",
    "```python\n",
    "pip install jupyterlab\n",
    "```\t"
   ]
  },
  {
   "cell_type": "code",
   "execution_count": 1,
   "id": "unique-alpha",
   "metadata": {},
   "outputs": [],
   "source": [
    "first_name='Fabiola'"
   ]
  },
  {
   "cell_type": "code",
   "execution_count": 2,
   "id": "rapid-coaching",
   "metadata": {},
   "outputs": [],
   "source": [
    "last_name='Rasgado'"
   ]
  },
  {
   "cell_type": "code",
   "execution_count": 3,
   "id": "reverse-county",
   "metadata": {},
   "outputs": [
    {
     "name": "stdout",
     "output_type": "stream",
     "text": [
      "FabiolaFabiolaFabiolaFabiolaFabiola\n"
     ]
    }
   ],
   "source": [
    "print(first_name * 5)"
   ]
  },
  {
   "cell_type": "code",
   "execution_count": 7,
   "id": "nonprofit-throat",
   "metadata": {},
   "outputs": [
    {
     "data": {
      "text/plain": [
       "'RasgadoRasgadoRasgadoRasgadoRasgadoRasgadoRasgadoRasgadoRasgado'"
      ]
     },
     "execution_count": 7,
     "metadata": {},
     "output_type": "execute_result"
    }
   ],
   "source": [
    "last_name * 9"
   ]
  },
  {
   "cell_type": "code",
   "execution_count": null,
   "id": "based-little",
   "metadata": {},
   "outputs": [],
   "source": []
  }
 ],
 "metadata": {
  "kernelspec": {
   "display_name": "Python 3",
   "language": "python",
   "name": "python3"
  },
  "language_info": {
   "codemirror_mode": {
    "name": "ipython",
    "version": 3
   },
   "file_extension": ".py",
   "mimetype": "text/x-python",
   "name": "python",
   "nbconvert_exporter": "python",
   "pygments_lexer": "ipython3",
   "version": "3.8.7"
  }
 },
 "nbformat": 4,
 "nbformat_minor": 5
}
