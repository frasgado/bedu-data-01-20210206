{
 "cells": [
  {
   "cell_type": "markdown",
   "id": "divided-attitude",
   "metadata": {},
   "source": [
    "## Exercise in Python using Jupyter Notebook\n",
    "### Translating 05_for_loop.py to 05_for_loop.ipynb\n",
    "#### By Fabiola Rasgado\n",
    "07 - February - 2021\n",
    "\n",
    "```\n",
    "List interaction using the loop\n",
    "```"
   ]
  },
  {
   "cell_type": "code",
   "execution_count": 3,
   "id": "detected-chicago",
   "metadata": {},
   "outputs": [
    {
     "name": "stdout",
     "output_type": "stream",
     "text": [
      "4200.0\n",
      "4200.00\n",
      "+4200.00\n",
      "Valor redondeado: 4200\n",
      "---------------------------------\n",
      "3500.0\n",
      "3500.00\n",
      "+3500.00\n",
      "Valor redondeado: 3500\n",
      "---------------------------------\n",
      "3849.9999999999995\n",
      "3850.00\n",
      "+3850.00\n",
      "Valor redondeado: 3850\n",
      "---------------------------------\n",
      "3674.9999999999995\n",
      "3675.00\n",
      "+3675.00\n",
      "Valor redondeado: 3675\n",
      "---------------------------------\n",
      "3150.0\n",
      "3150.00\n",
      "+3150.00\n",
      "Valor redondeado: 3150\n",
      "---------------------------------\n",
      "3919.9999999999995\n",
      "3920.00\n",
      "+3920.00\n",
      "Valor redondeado: 3920\n",
      "---------------------------------\n"
     ]
    }
   ],
   "source": [
    "#Constant\n",
    "ISR_TAX = 0.35\n",
    "\n",
    "salaries = [\n",
    "    12000.00,\n",
    "    10000.00,\n",
    "    11000.00,\n",
    "    10500.00,\n",
    "    9000.00,\n",
    "    11200.00\n",
    "]\n",
    "\n",
    "for s in salaries:\n",
    "    salary_tax = s * ISR_TAX\n",
    "    print(salary_tax)\n",
    "    print(f'{salary_tax:.2f}')\n",
    "    print(f'{salary_tax:+.2f}')\n",
    "    salary_tax2 = round(salary_tax)\n",
    "    print(f'Valor redondeado: {salary_tax2}')\n",
    "    print('---------------------------------')"
   ]
  }
 ],
 "metadata": {
  "kernelspec": {
   "display_name": "Python 3",
   "language": "python",
   "name": "python3"
  },
  "language_info": {
   "codemirror_mode": {
    "name": "ipython",
    "version": 3
   },
   "file_extension": ".py",
   "mimetype": "text/x-python",
   "name": "python",
   "nbconvert_exporter": "python",
   "pygments_lexer": "ipython3",
   "version": "3.8.7"
  }
 },
 "nbformat": 4,
 "nbformat_minor": 5
}
