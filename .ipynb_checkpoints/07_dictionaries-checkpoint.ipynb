{
 "cells": [
  {
   "cell_type": "markdown",
   "id": "premier-battery",
   "metadata": {},
   "source": [
    "## Exercise in Python using Jupyter Notebook\n",
    "### Translating 07_dictionaries.py to 07_dictionaries.ipynb\n",
    "#### By Fabiola Rasgado\n",
    "07 - February - 2021\n",
    "\n",
    "```\n",
    "How the dictionaries work in Python\n",
    "```"
   ]
  },
  {
   "cell_type": "code",
   "execution_count": 8,
   "id": "naughty-change",
   "metadata": {},
   "outputs": [
    {
     "name": "stdout",
     "output_type": "stream",
     "text": [
      "About of Student 1\n",
      "{'name': 'Galileo', 'age': 31, 'city': 'Puerto Escondido', 'state': 'Oaxaca'}\n",
      "Data type: <class 'dict'>\n",
      "name: Galileo\n",
      "age: 31\n",
      "Galileo is 31 years old.\n",
      "\n",
      "-----------------------------------------------\n",
      "About transformations to letters\n",
      "upper\n",
      "FABIOLA\n",
      "fabiola\n",
      "Fabiola\n",
      "\n",
      "-----------------------------------------------\n",
      "About of Student 2\n",
      "{'name': 'Fabiola', 'age': 47, 'city': 'Juchitan'}\n",
      "State: N/A\n"
     ]
    }
   ],
   "source": [
    "student_1 = {\n",
    "    'name': 'Galileo',\n",
    "    'age': 31,\n",
    "    'city': 'Puerto Escondido',\n",
    "    'state': 'Oaxaca'\n",
    "}\n",
    "student_2 = {\n",
    "    'name': 'Fabiola',\n",
    "    'age': 47,\n",
    "    'city': 'Juchitan'\n",
    "}\n",
    "\n",
    "print('About of Student 1')\n",
    "print(student_1)\n",
    "print(f'Data type: {type(student_1)}')\n",
    "\n",
    "print(f'name: {student_1[\"name\"]}')\n",
    "print(f'age: {student_1[\"age\"]}')\n",
    "\n",
    "print(f'{student_1[\"name\"]} is {student_1[\"age\"]} years old.')\n",
    "\n",
    "print('\\n-----------------------------------------------')\n",
    "print('About transformations to letters')\n",
    "v_name = 'fabiola'\n",
    "print('upper')\n",
    "print(v_name.upper())\n",
    "print(v_name.lower())\n",
    "print(v_name.capitalize())\n",
    "\n",
    "print('\\n-----------------------------------------------')\n",
    "print('About of Student 2')\n",
    "#print(student_2['state'])\n",
    "print(student_2)\n",
    "print(f'State: {student_2.get(\"state\", \"N/A\")}')\n"
   ]
  }
 ],
 "metadata": {
  "kernelspec": {
   "display_name": "Python 3",
   "language": "python",
   "name": "python3"
  },
  "language_info": {
   "codemirror_mode": {
    "name": "ipython",
    "version": 3
   },
   "file_extension": ".py",
   "mimetype": "text/x-python",
   "name": "python",
   "nbconvert_exporter": "python",
   "pygments_lexer": "ipython3",
   "version": "3.8.7"
  }
 },
 "nbformat": 4,
 "nbformat_minor": 5
}
