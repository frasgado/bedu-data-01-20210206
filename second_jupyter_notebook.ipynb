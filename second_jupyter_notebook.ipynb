{
 "cells": [
  {
   "cell_type": "markdown",
   "id": "expected-grammar",
   "metadata": {},
   "source": [
    "# Second Jupyter Notebook¶\n",
    "### Working with list and dictionary\n",
    "#### By Fabiola Rasgado\n",
    "06 - February - 2021"
   ]
  },
  {
   "cell_type": "code",
   "execution_count": 46,
   "id": "dutch-dictionary",
   "metadata": {},
   "outputs": [],
   "source": [
    "students = [\n",
    "    {\n",
    "        'name': 'Galileo',\n",
    "        'age': 31\n",
    "    },\n",
    "    {\n",
    "        'name': 'Omar',\n",
    "        'age': 20\n",
    "    },\n",
    "    {\n",
    "        'name': 'Fabiola',\n",
    "        'age': 20\n",
    "    },\n",
    "    {\n",
    "        'name': 'Guillermo',\n",
    "        'age': 20\n",
    "    },\n",
    "    {\n",
    "        'name': 'Eduardo',\n",
    "        'age': 31\n",
    "    },\n",
    "    {\n",
    "        'name': 'Armando',\n",
    "        'age': 20\n",
    "    }\n",
    "]\n",
    "\n"
   ]
  },
  {
   "cell_type": "markdown",
   "id": "dutch-broadcasting",
   "metadata": {},
   "source": [
    "# Homework\n",
    "### Calculate the age average from students"
   ]
  },
  {
   "cell_type": "code",
   "execution_count": 56,
   "id": "agricultural-variation",
   "metadata": {},
   "outputs": [
    {
     "name": "stdout",
     "output_type": "stream",
     "text": [
      "Cantidad de Estudiantes: 6\n",
      "Suma Total de Edades: 142\n",
      "Operación a realizar para obtener el promedio 142/6 = 24\n",
      "Edad promedio del grupo: 24\n"
     ]
    }
   ],
   "source": [
    "tam = len(students)\n",
    "print(f'Cantidad de Estudiantes: {tam}')\n",
    "suma = 0\n",
    "for st in students:\n",
    "    suma = suma + st.get(\"age\")\n",
    "    #print(f'{st[\"age\"]}')\n",
    "    #print(f'- {st.get(\"age\")} -')\n",
    "print(f'Suma Total de Edades: {suma}')\n",
    "edad_promedio = int(round(suma / tam, 0))\n",
    "print(f'Operación a realizar para obtener el promedio {suma}/{tam} = {edad_promedio}')\n",
    "print(f'Edad promedio del grupo: {edad_promedio:2}')"
   ]
  },
  {
   "cell_type": "markdown",
   "id": "instructional-reviewer",
   "metadata": {},
   "source": [
    "# Homework \n",
    "### Generate a random number between 1000..299"
   ]
  },
  {
   "cell_type": "code",
   "execution_count": 54,
   "id": "average-contribution",
   "metadata": {},
   "outputs": [
    {
     "name": "stdout",
     "output_type": "stream",
     "text": [
      "Random Number Generated (Range from 299 to 1000) = 722\n"
     ]
    }
   ],
   "source": [
    "import random\n",
    "\n",
    "number_random = random.randint(299, 1000)\n",
    "print(f'Random Number Generated (Range from 299 to 1000) = {number_random}')"
   ]
  }
 ],
 "metadata": {
  "kernelspec": {
   "display_name": "Python 3",
   "language": "python",
   "name": "python3"
  },
  "language_info": {
   "codemirror_mode": {
    "name": "ipython",
    "version": 3
   },
   "file_extension": ".py",
   "mimetype": "text/x-python",
   "name": "python",
   "nbconvert_exporter": "python",
   "pygments_lexer": "ipython3",
   "version": "3.8.7"
  }
 },
 "nbformat": 4,
 "nbformat_minor": 5
}
