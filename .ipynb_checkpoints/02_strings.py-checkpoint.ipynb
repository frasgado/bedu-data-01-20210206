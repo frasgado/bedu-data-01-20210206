{
 "cells": [
  {
   "cell_type": "markdown",
   "id": "offshore-mechanism",
   "metadata": {},
   "source": [
    "## Exercise in Python using Jupyter Notebook\n",
    "### Translating 02_strings.py to 02_strings.ipynb\n",
    "#### By Fabiola Rasgado\n",
    "07 - February - 2021\n",
    "\n",
    "```\n",
    "This is a sample code of how work with Python\n",
    "```"
   ]
  },
  {
   "cell_type": "code",
   "execution_count": 2,
   "id": "shaped-graphic",
   "metadata": {},
   "outputs": [
    {
     "name": "stdout",
     "output_type": "stream",
     "text": [
      "Fabiola\n",
      "----------------------------\n",
      "RasgadoRasgadoRasgadoRasgadoRasgadoRasgadoRasgadoRasgadoRasgado\n",
      "----------------------------\n",
      "FabiolaRasgado\n"
     ]
    }
   ],
   "source": [
    "name = 'Fabiola'\n",
    "last_name = 'Rasgado'\n",
    "print(name)\n",
    "print('----------------------------')\n",
    "print(last_name  * 9)\n",
    "print('----------------------------')\n",
    "print(name + last_name)"
   ]
  }
 ],
 "metadata": {
  "kernelspec": {
   "display_name": "Python 3",
   "language": "python",
   "name": "python3"
  },
  "language_info": {
   "codemirror_mode": {
    "name": "ipython",
    "version": 3
   },
   "file_extension": ".py",
   "mimetype": "text/x-python",
   "name": "python",
   "nbconvert_exporter": "python",
   "pygments_lexer": "ipython3",
   "version": "3.8.7"
  }
 },
 "nbformat": 4,
 "nbformat_minor": 5
}
